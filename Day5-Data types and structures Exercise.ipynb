{
 "cells": [
  {
   "cell_type": "code",
   "execution_count": 1,
   "id": "2124d9d4-372a-486f-b349-3612af5269c9",
   "metadata": {},
   "outputs": [
    {
     "name": "stdout",
     "output_type": "stream",
     "text": [
      "15\n",
      "5\n",
      "50\n",
      "False\n",
      "0\n",
      "True\n",
      "True\n"
     ]
    }
   ],
   "source": [
    "x = 10\n",
    "y = 5\n",
    "\n",
    "print(x+y)\n",
    "print(x-y)\n",
    "print(x*y)\n",
    "print(x==y)\n",
    "print(x%y)\n",
    "print(x>y)\n",
    "print(x>=y)\n"
   ]
  },
  {
   "cell_type": "code",
   "execution_count": 2,
   "id": "dc2a020b-8cf0-4aa5-a3ed-bf05c3dc9d58",
   "metadata": {},
   "outputs": [
    {
     "data": {
      "text/plain": [
       "str"
      ]
     },
     "execution_count": 2,
     "metadata": {},
     "output_type": "execute_result"
    }
   ],
   "source": [
    "nama = 'muslim'\n",
    "type(nama)"
   ]
  },
  {
   "cell_type": "code",
   "execution_count": 3,
   "id": "5bd7633c-0ef9-4496-aea2-5051816480a9",
   "metadata": {},
   "outputs": [],
   "source": [
    "umur = 25\n",
    "umur = '25'"
   ]
  },
  {
   "cell_type": "code",
   "execution_count": 6,
   "id": "ed3d79f6-cd94-4a2f-abf4-229744e8fb67",
   "metadata": {},
   "outputs": [
    {
     "name": "stdout",
     "output_type": "stream",
     "text": [
      "25\n"
     ]
    }
   ],
   "source": [
    "print(umur)"
   ]
  },
  {
   "cell_type": "code",
   "execution_count": 9,
   "id": "feb2e62c-049f-4b97-8ae5-61117a09af56",
   "metadata": {},
   "outputs": [
    {
     "name": "stdout",
     "output_type": "stream",
     "text": [
      "20.0\n"
     ]
    },
    {
     "data": {
      "text/plain": [
       "20.0"
      ]
     },
     "execution_count": 9,
     "metadata": {},
     "output_type": "execute_result"
    }
   ],
   "source": [
    "umur = 20.\n",
    "print(umur)\n",
    "\n",
    "angka = \"20\"\n",
    "float(angka)\n"
   ]
  },
  {
   "cell_type": "code",
   "execution_count": 12,
   "id": "3afe9381-4c57-4115-aa07-f6e7da181ba8",
   "metadata": {},
   "outputs": [
    {
     "data": {
      "text/plain": [
       "bool"
      ]
     },
     "execution_count": 12,
     "metadata": {},
     "output_type": "execute_result"
    }
   ],
   "source": [
    "umur = 25\n",
    "tinggi = 170\n",
    "type(umur==tinggi)"
   ]
  },
  {
   "cell_type": "code",
   "execution_count": 14,
   "id": "313f09e9-8402-416b-a7e3-d09a8f4cf68b",
   "metadata": {},
   "outputs": [
    {
     "data": {
      "text/plain": [
       "int"
      ]
     },
     "execution_count": 14,
     "metadata": {},
     "output_type": "execute_result"
    }
   ],
   "source": [
    "type(umur)"
   ]
  },
  {
   "cell_type": "code",
   "execution_count": 2,
   "id": "e44ff1d6-0ddc-4a7e-9684-21d4ec6366b1",
   "metadata": {},
   "outputs": [],
   "source": [
    "test = 10"
   ]
  },
  {
   "cell_type": "code",
   "execution_count": 8,
   "id": "5c394ea5-5200-46c5-9c8f-4045e6b79091",
   "metadata": {},
   "outputs": [
    {
     "name": "stdout",
     "output_type": "stream",
     "text": [
      "['merah', 'biru', 'hijau']\n"
     ]
    }
   ],
   "source": [
    "warna= [\"merah\", \"biru\", \"hijau\"]\n",
    "print(warna)"
   ]
  },
  {
   "cell_type": "code",
   "execution_count": 10,
   "id": "e34333af-7e09-46b1-aae6-dafb73746ccd",
   "metadata": {},
   "outputs": [
    {
     "data": {
      "text/plain": [
       "list"
      ]
     },
     "execution_count": 10,
     "metadata": {},
     "output_type": "execute_result"
    }
   ],
   "source": [
    "type(warna)"
   ]
  },
  {
   "cell_type": "code",
   "execution_count": 24,
   "id": "76a51231-c6cd-4fd9-84f6-728de1dd9c91",
   "metadata": {},
   "outputs": [
    {
     "data": {
      "text/plain": [
       "['biru', 'hijau']"
      ]
     },
     "execution_count": 24,
     "metadata": {},
     "output_type": "execute_result"
    }
   ],
   "source": [
    "warna[-2:]"
   ]
  },
  {
   "cell_type": "code",
   "execution_count": 26,
   "id": "91acba14-d652-4e72-92d9-41cbeb658a7f",
   "metadata": {},
   "outputs": [
    {
     "data": {
      "text/plain": [
       "['merah', 'biru', 'jingga']"
      ]
     },
     "execution_count": 26,
     "metadata": {},
     "output_type": "execute_result"
    }
   ],
   "source": [
    "warna[2] = \"jingga\"\n",
    "warna"
   ]
  },
  {
   "cell_type": "code",
   "execution_count": 27,
   "id": "0728b38f-6570-40cc-8e04-fabec4823cb4",
   "metadata": {},
   "outputs": [
    {
     "data": {
      "text/plain": [
       "list"
      ]
     },
     "execution_count": 27,
     "metadata": {},
     "output_type": "execute_result"
    }
   ],
   "source": [
    "type(warna)"
   ]
  },
  {
   "cell_type": "code",
   "execution_count": 31,
   "id": "13a7e233-f29a-41ee-9ecf-62ad86297b37",
   "metadata": {},
   "outputs": [
    {
     "data": {
      "text/plain": [
       "['merah', 'biru', 'jingga']"
      ]
     },
     "execution_count": 31,
     "metadata": {},
     "output_type": "execute_result"
    }
   ],
   "source": [
    "warna_tuple = (\"merah\", \"biru\", \"hijau\")\n",
    "warna"
   ]
  },
  {
   "cell_type": "code",
   "execution_count": 33,
   "id": "b26f357b-b22b-494e-ac82-69dffdf84d71",
   "metadata": {},
   "outputs": [
    {
     "data": {
      "text/plain": [
       "tuple"
      ]
     },
     "execution_count": 33,
     "metadata": {},
     "output_type": "execute_result"
    }
   ],
   "source": [
    "type(warna_tuple)"
   ]
  },
  {
   "cell_type": "code",
   "execution_count": 34,
   "id": "fc87d298-deb7-4106-87f6-db35864c5a1e",
   "metadata": {},
   "outputs": [
    {
     "data": {
      "text/plain": [
       "{7, 'first', 'zara'}"
      ]
     },
     "execution_count": 34,
     "metadata": {},
     "output_type": "execute_result"
    }
   ],
   "source": [
    "biodata = {7, \"first\", \"zara\", 7}\n",
    "biodata"
   ]
  },
  {
   "cell_type": "code",
   "execution_count": 36,
   "id": "c356cfca-bb4c-4862-ae4b-607b189f2b08",
   "metadata": {},
   "outputs": [
    {
     "data": {
      "text/plain": [
       "set"
      ]
     },
     "execution_count": 36,
     "metadata": {},
     "output_type": "execute_result"
    }
   ],
   "source": [
    "type(biodata)"
   ]
  },
  {
   "cell_type": "code",
   "execution_count": 37,
   "id": "b74cc4e8-9b57-4714-a70d-7bf0f0b9cc8f",
   "metadata": {},
   "outputs": [
    {
     "data": {
      "text/plain": [
       "{'nama': 'ramadhan', 'umur': 20, 'pekerjaan': 'DS'}"
      ]
     },
     "execution_count": 37,
     "metadata": {},
     "output_type": "execute_result"
    }
   ],
   "source": [
    "batch_33b = {\"nama\" : \"ramadhan\",\n",
    "             \"umur\" : 20,\n",
    "             \"pekerjaan\" : \"DS\"}\n",
    "batch_33b"
   ]
  },
  {
   "cell_type": "code",
   "execution_count": 39,
   "id": "60e4faaf-5b61-41e6-b400-8a33017ba381",
   "metadata": {},
   "outputs": [
    {
     "data": {
      "text/plain": [
       "{'nama': 'fikri', 'umur': 20, 'pekerjaan': 'DS'}"
      ]
     },
     "execution_count": 39,
     "metadata": {},
     "output_type": "execute_result"
    }
   ],
   "source": [
    "batch_33b[\"nama\"] = \"fikri\"\n",
    "batch_33b"
   ]
  },
  {
   "cell_type": "code",
   "execution_count": 41,
   "id": "4b88a23b-ca51-4c94-9f1f-f877fe88d249",
   "metadata": {},
   "outputs": [
    {
     "data": {
      "text/plain": [
       "{'nama': ['ramadhan', 'fikri', 'nadia'],\n",
       " 'umur': [20, 21, 25],\n",
       " 'pekerjaan': ['DS', 'DA', 'DE']}"
      ]
     },
     "execution_count": 41,
     "metadata": {},
     "output_type": "execute_result"
    }
   ],
   "source": [
    "batch_33b_banyak = {\"nama\" : [\"ramadhan\", \"fikri\", \"nadia\"],\n",
    "                    \"umur\" : [20,21,25],\n",
    "                    \"pekerjaan\" : [\"DS\", \"DA\", \"DE\"]\n",
    "                   }\n",
    "batch_33b_banyak"
   ]
  },
  {
   "cell_type": "code",
   "execution_count": 42,
   "id": "9fa47910-77b1-4d94-aa97-28db5463d152",
   "metadata": {},
   "outputs": [
    {
     "data": {
      "text/plain": [
       "array([1, 2, 3, 4, 5])"
      ]
     },
     "execution_count": 42,
     "metadata": {},
     "output_type": "execute_result"
    }
   ],
   "source": [
    "import numpy as np\n",
    "vektor = np.array([1,2,3,4,5])\n",
    "vektor"
   ]
  },
  {
   "cell_type": "code",
   "execution_count": 43,
   "id": "8735ddc5-0b4f-410d-99c9-f7e15a45fe63",
   "metadata": {},
   "outputs": [
    {
     "data": {
      "text/plain": [
       "numpy.ndarray"
      ]
     },
     "execution_count": 43,
     "metadata": {},
     "output_type": "execute_result"
    }
   ],
   "source": [
    "type(vektor)"
   ]
  },
  {
   "cell_type": "code",
   "execution_count": 45,
   "id": "371240e5-ca48-4ce2-8e78-c0a065caf682",
   "metadata": {},
   "outputs": [
    {
     "data": {
      "text/plain": [
       "array([[1, 2, 3],\n",
       "       [4, 5, 6]])"
      ]
     },
     "execution_count": 45,
     "metadata": {},
     "output_type": "execute_result"
    }
   ],
   "source": [
    "matrix = np.array([[1,2,3], [4,5,6]])\n",
    "matrix"
   ]
  },
  {
   "cell_type": "code",
   "execution_count": 47,
   "id": "12cd1330-2e93-41d6-9a8e-2761d2c415d1",
   "metadata": {},
   "outputs": [
    {
     "data": {
      "text/plain": [
       "np.int64(5)"
      ]
     },
     "execution_count": 47,
     "metadata": {},
     "output_type": "execute_result"
    }
   ],
   "source": [
    "matrix[1][1]"
   ]
  }
 ],
 "metadata": {
  "kernelspec": {
   "display_name": "Python 3 (Spyder)",
   "language": "python3",
   "name": "python3"
  },
  "language_info": {
   "codemirror_mode": {
    "name": "ipython",
    "version": 3
   },
   "file_extension": ".py",
   "mimetype": "text/x-python",
   "name": "python",
   "nbconvert_exporter": "python",
   "pygments_lexer": "ipython3",
   "version": "3.11.11"
  }
 },
 "nbformat": 4,
 "nbformat_minor": 5
}
