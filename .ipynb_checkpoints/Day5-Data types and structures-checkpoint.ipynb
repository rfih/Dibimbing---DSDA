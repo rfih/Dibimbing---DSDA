{
 "cells": [
  {
   "cell_type": "code",
   "execution_count": 1,
   "id": "2124d9d4-372a-486f-b349-3612af5269c9",
   "metadata": {},
   "outputs": [
    {
     "name": "stdout",
     "output_type": "stream",
     "text": [
      "15\n",
      "5\n",
      "50\n",
      "False\n",
      "0\n",
      "True\n",
      "True\n"
     ]
    }
   ],
   "source": [
    "x = 10\n",
    "y = 5\n",
    "\n",
    "print(x+y)\n",
    "print(x-y)\n",
    "print(x*y)\n",
    "print(x==y)\n",
    "print(x%y)\n",
    "print(x>y)\n",
    "print(x>=y)\n"
   ]
  },
  {
   "cell_type": "code",
   "execution_count": 2,
   "id": "dc2a020b-8cf0-4aa5-a3ed-bf05c3dc9d58",
   "metadata": {},
   "outputs": [
    {
     "data": {
      "text/plain": [
       "str"
      ]
     },
     "execution_count": 2,
     "metadata": {},
     "output_type": "execute_result"
    }
   ],
   "source": [
    "nama = 'muslim'\n",
    "type(nama)"
   ]
  },
  {
   "cell_type": "code",
   "execution_count": 3,
   "id": "5bd7633c-0ef9-4496-aea2-5051816480a9",
   "metadata": {},
   "outputs": [],
   "source": [
    "umur = 25\n",
    "umur = '25'"
   ]
  },
  {
   "cell_type": "code",
   "execution_count": 6,
   "id": "ed3d79f6-cd94-4a2f-abf4-229744e8fb67",
   "metadata": {},
   "outputs": [
    {
     "name": "stdout",
     "output_type": "stream",
     "text": [
      "25\n"
     ]
    }
   ],
   "source": [
    "print(umur)"
   ]
  },
  {
   "cell_type": "code",
   "execution_count": 9,
   "id": "feb2e62c-049f-4b97-8ae5-61117a09af56",
   "metadata": {},
   "outputs": [
    {
     "name": "stdout",
     "output_type": "stream",
     "text": [
      "20.0\n"
     ]
    },
    {
     "data": {
      "text/plain": [
       "20.0"
      ]
     },
     "execution_count": 9,
     "metadata": {},
     "output_type": "execute_result"
    }
   ],
   "source": [
    "umur = 20.\n",
    "print(umur)\n",
    "\n",
    "angka = \"20\"\n",
    "float(angka)\n"
   ]
  },
  {
   "cell_type": "code",
   "execution_count": 12,
   "id": "3afe9381-4c57-4115-aa07-f6e7da181ba8",
   "metadata": {},
   "outputs": [
    {
     "data": {
      "text/plain": [
       "bool"
      ]
     },
     "execution_count": 12,
     "metadata": {},
     "output_type": "execute_result"
    }
   ],
   "source": [
    "umur = 25\n",
    "tinggi = 170\n",
    "type(umur==tinggi)"
   ]
  },
  {
   "cell_type": "code",
   "execution_count": 14,
   "id": "313f09e9-8402-416b-a7e3-d09a8f4cf68b",
   "metadata": {},
   "outputs": [
    {
     "data": {
      "text/plain": [
       "int"
      ]
     },
     "execution_count": 14,
     "metadata": {},
     "output_type": "execute_result"
    }
   ],
   "source": [
    "type(umur)"
   ]
  },
  {
   "cell_type": "code",
   "execution_count": 15,
   "id": "e44ff1d6-0ddc-4a7e-9684-21d4ec6366b1",
   "metadata": {},
   "outputs": [],
   "source": [
    "test = 10"
   ]
  }
 ],
 "metadata": {
  "kernelspec": {
   "display_name": "Python 3 (Spyder)",
   "language": "python3",
   "name": "python3"
  },
  "language_info": {
   "codemirror_mode": {
    "name": "ipython",
    "version": 3
   },
   "file_extension": ".py",
   "mimetype": "text/x-python",
   "name": "python",
   "nbconvert_exporter": "python",
   "pygments_lexer": "ipython3",
   "version": "3.11.11"
  }
 },
 "nbformat": 4,
 "nbformat_minor": 5
}
